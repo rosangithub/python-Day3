{
 "cells": [
  {
   "cell_type": "code",
   "execution_count": 1,
   "id": "443c6db4-60b4-4770-bf09-faff98018740",
   "metadata": {},
   "outputs": [],
   "source": [
    "a=10"
   ]
  },
  {
   "cell_type": "code",
   "execution_count": 3,
   "id": "bf9d3e19-dac5-4f0e-89e7-01b6f2f9ffc5",
   "metadata": {},
   "outputs": [],
   "source": [
    "b=20"
   ]
  },
  {
   "cell_type": "code",
   "execution_count": 5,
   "id": "32e33573-05f0-401c-8798-ca74335dcf57",
   "metadata": {},
   "outputs": [],
   "source": [
    "gmean=(a*b)/(a+b)"
   ]
  },
  {
   "cell_type": "code",
   "execution_count": 7,
   "id": "c5bf21c0-a2c1-43a3-b8c4-a274f72b8727",
   "metadata": {},
   "outputs": [
    {
     "name": "stdout",
     "output_type": "stream",
     "text": [
      "6.666666666666667\n"
     ]
    }
   ],
   "source": [
    "print(gmean)"
   ]
  },
  {
   "cell_type": "code",
   "execution_count": 27,
   "id": "5a188a42-b3f2-438b-b669-e90e37e459b7",
   "metadata": {},
   "outputs": [
    {
     "name": "stdout",
     "output_type": "stream",
     "text": [
      "Second number is greater\n",
      "6.666666666666667\n"
     ]
    }
   ],
   "source": [
    "def isGreater(a,b):\n",
    "  if a>b:\n",
    "    print(\"First number is greater\")\n",
    "  else:   \n",
    "    print(\"Second number is greater\")\n",
    "\n",
    "def gmean(a,b):\n",
    "    mean=(a*b)/(a+b)\n",
    "    print(mean)\n",
    "isGreater(a,b)    \n",
    "gmean(a,b)"
   ]
  },
  {
   "cell_type": "code",
   "execution_count": 11,
   "id": "a075eabc-c8fe-4554-90ec-a376b7e3af30",
   "metadata": {},
   "outputs": [
    {
     "name": "stdout",
     "output_type": "stream",
     "text": [
      "6.666666666666667\n"
     ]
    }
   ],
   "source": [
    "gmean(a,b)"
   ]
  },
  {
   "cell_type": "code",
   "execution_count": 13,
   "id": "f0cf3601-bb2c-4791-b320-03529fb6ca94",
   "metadata": {},
   "outputs": [],
   "source": [
    "c=10\n",
    "d=40"
   ]
  },
  {
   "cell_type": "code",
   "execution_count": 15,
   "id": "2aac732e-9392-4368-96ad-3ffa1d8b6f18",
   "metadata": {},
   "outputs": [
    {
     "name": "stdout",
     "output_type": "stream",
     "text": [
      "8.0\n"
     ]
    }
   ],
   "source": [
    "gmean(c,d)"
   ]
  },
  {
   "cell_type": "code",
   "execution_count": 29,
   "id": "0ac8e1c3-6c8a-4264-9d47-7b687bd6947c",
   "metadata": {},
   "outputs": [
    {
     "name": "stdout",
     "output_type": "stream",
     "text": [
      "Second number is greater\n"
     ]
    }
   ],
   "source": [
    "isGreater(c,d)"
   ]
  },
  {
   "cell_type": "code",
   "execution_count": 31,
   "id": "538bade8-39cc-403d-8bea-487e29ebe17e",
   "metadata": {},
   "outputs": [],
   "source": [
    "def isLesser(a,b):\n",
    "    pass#you can add the body later "
   ]
  },
  {
   "cell_type": "code",
   "execution_count": 52,
   "id": "9f03ffea-338d-4e83-bf49-0d29d365a88d",
   "metadata": {},
   "outputs": [],
   "source": [
    "from  datetime import datetime,time"
   ]
  },
  {
   "cell_type": "code",
   "execution_count": 115,
   "id": "f85d6225-70fe-4ecc-9da3-3d98c78f909c",
   "metadata": {},
   "outputs": [],
   "source": [
    "def greet_time():\n",
    "    current_time=datetime.now().time()\n",
    "    print(current_time)\n",
    "    morning_start=time(5,0,0)\n",
    "    day_start=time(12,0,0)\n",
    "    evining_start=time(17,0,0)\n",
    "    night_start=time(21,0,0)\n",
    "    if morning_start <= current_time<day_start:\n",
    "        print(\"good morning \")\n",
    "    elif day_start <= current_time<evining_start:\n",
    "        print(\"good afternoon\")\n",
    "    elif evining_start <= current_time<night_start:\n",
    "        print(\"Good evining\")\n",
    "    else:\n",
    "        print(\"Good night\")\n",
    "                    "
   ]
  },
  {
   "cell_type": "code",
   "execution_count": 117,
   "id": "be731e94-1b07-4033-93d4-316df7a70ad6",
   "metadata": {},
   "outputs": [
    {
     "name": "stdout",
     "output_type": "stream",
     "text": [
      "08:49:10.916136\n",
      "good morning \n"
     ]
    }
   ],
   "source": [
    "greet_time()"
   ]
  },
  {
   "cell_type": "code",
   "execution_count": 107,
   "id": "e77f4eb8-9b2e-4aeb-9392-7abd349c0357",
   "metadata": {},
   "outputs": [
    {
     "name": "stdout",
     "output_type": "stream",
     "text": [
      "08:17:42.827172\n",
      "Good Morning!\n"
     ]
    }
   ],
   "source": [
    "from datetime import datetime, time\n",
    "\n",
    "def greet_time():\n",
    "    # Get the current time\n",
    "    current_time = datetime.now().time()\n",
    "    #print(f\"Current Time: {current_time}\")\n",
    "    print(current_time)\n",
    "    \n",
    "    # Define time ranges for different greetings\n",
    "    morning_start = time(5, 0, 0)   # 5:00 AM\n",
    "    day_start = time(12, 0, 0)      # 12:00 PM\n",
    "    evening_start = time(17, 0, 0)  # 5:00 PM\n",
    "    night_start = time(21, 0, 0)    # 9:00 PM\n",
    "    \n",
    "    # Check the current time and print the appropriate greeting\n",
    "    if morning_start <= current_time < day_start:\n",
    "        print(\"Good Morning!\")\n",
    "    elif day_start <= current_time < evening_start:\n",
    "        print(\"Good Afternoon!\")\n",
    "    elif evening_start <= current_time < night_start:\n",
    "        print(\"Good Evening!\")\n",
    "    else:\n",
    "        print(\"Good Night!\")\n",
    "\n",
    "# Call the function to greet based on the time\n",
    "greet_time()\n",
    "\n"
   ]
  },
  {
   "cell_type": "code",
   "execution_count": 131,
   "id": "fa60ca0b-747d-4b46-a3c4-087a73536b7c",
   "metadata": {},
   "outputs": [],
   "source": [
    "def average(a=10,b=20):\n",
    "    print(\"The average is:\",(a+b)/2)"
   ]
  },
  {
   "cell_type": "code",
   "execution_count": 135,
   "id": "64ae7918-dbf0-41c7-bc1e-e1329bf91439",
   "metadata": {},
   "outputs": [
    {
     "name": "stdout",
     "output_type": "stream",
     "text": [
      "The average is: 15.0\n"
     ]
    }
   ],
   "source": [
    "average()"
   ]
  },
  {
   "cell_type": "code",
   "execution_count": 137,
   "id": "4a012cb4-4748-49fa-93ce-306f012ce34a",
   "metadata": {},
   "outputs": [
    {
     "name": "stdout",
     "output_type": "stream",
     "text": [
      "The average is: 12.0\n"
     ]
    }
   ],
   "source": [
    "average(a=4)"
   ]
  },
  {
   "cell_type": "code",
   "execution_count": 139,
   "id": "33ad1192-d1e3-4d19-a42a-57fbd92fd722",
   "metadata": {},
   "outputs": [
    {
     "name": "stdout",
     "output_type": "stream",
     "text": [
      "The average is: 20.0\n"
     ]
    }
   ],
   "source": [
    "average(b=30)"
   ]
  },
  {
   "cell_type": "code",
   "execution_count": 145,
   "id": "37612604-ee7c-4e32-85a4-0d59a281e845",
   "metadata": {},
   "outputs": [],
   "source": [
    "def name(fname=\"Rosan\",lname=\"Shrestha\"):\n",
    "    print(\"my name is \",fname ,lname)"
   ]
  },
  {
   "cell_type": "code",
   "execution_count": 157,
   "id": "75a88f5d-7d4c-4729-8659-9644b8bd9ba6",
   "metadata": {},
   "outputs": [
    {
     "name": "stdout",
     "output_type": "stream",
     "text": [
      "my name is  ram tamang\n"
     ]
    }
   ],
   "source": [
    "name(\"ram\",\"tamang\")"
   ]
  },
  {
   "cell_type": "code",
   "execution_count": 161,
   "id": "349f25f9-452e-4a69-b9f4-61aa1f102752",
   "metadata": {},
   "outputs": [
    {
     "name": "stdout",
     "output_type": "stream",
     "text": [
      "The average is: 9.0\n"
     ]
    }
   ],
   "source": [
    "average(b=10,a=8)"
   ]
  },
  {
   "cell_type": "code",
   "execution_count": 173,
   "id": "76d3858f-28dc-4077-ba67-b036da1fbc61",
   "metadata": {},
   "outputs": [],
   "source": [
    "def average(*numbers):\n",
    "    sum=0\n",
    "    for i in numbers:\n",
    "        sum=sum+i\n",
    "    print(\"Average is\",sum/len(numbers))"
   ]
  },
  {
   "cell_type": "code",
   "execution_count": 175,
   "id": "ba64349e-bcdf-4836-80fd-3f252e74426b",
   "metadata": {},
   "outputs": [
    {
     "name": "stdout",
     "output_type": "stream",
     "text": [
      "Average is 18.8\n"
     ]
    }
   ],
   "source": [
    "average(3,4,5,6,76)"
   ]
  },
  {
   "cell_type": "code",
   "execution_count": 177,
   "id": "8e4a3c40-16c8-4178-a654-9bfd2718db29",
   "metadata": {},
   "outputs": [
    {
     "name": "stdout",
     "output_type": "stream",
     "text": [
      "hello\n",
      "hello\n",
      "hello\n",
      "hello\n",
      "hello\n",
      "hello\n",
      "hello\n",
      "hello\n",
      "hello\n",
      "hello\n"
     ]
    }
   ],
   "source": [
    "for _ in range(10):\n",
    "    print(\"hello\")\n"
   ]
  },
  {
   "cell_type": "code",
   "execution_count": null,
   "id": "8b3f9630-4234-482c-9af4-fa79d177490b",
   "metadata": {},
   "outputs": [],
   "source": []
  }
 ],
 "metadata": {
  "kernelspec": {
   "display_name": "Python 3 (ipykernel)",
   "language": "python",
   "name": "python3"
  },
  "language_info": {
   "codemirror_mode": {
    "name": "ipython",
    "version": 3
   },
   "file_extension": ".py",
   "mimetype": "text/x-python",
   "name": "python",
   "nbconvert_exporter": "python",
   "pygments_lexer": "ipython3",
   "version": "3.12.4"
  }
 },
 "nbformat": 4,
 "nbformat_minor": 5
}
